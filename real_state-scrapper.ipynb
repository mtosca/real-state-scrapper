{
 "cells": [
  {
   "cell_type": "code",
   "execution_count": 5,
   "metadata": {},
   "outputs": [
    {
     "name": "stdout",
     "output_type": "stream",
     "text": [
      "DONE\n"
     ]
    }
   ],
   "source": [
    "from bs4 import BeautifulSoup\n",
    "import requests\n",
    "import utils_scrapper as utils\n",
    "import pandas\n",
    "import property_scrapper as scrapper\n",
    "\n",
    "base_url = 'http://www.pyclass.com/real-estate/rock-springs-wy/LCWYROCKSPRINGS/'\n",
    "firefox_ua = {'User-agent': 'Mozilla/5.0 (X11; Ubuntu; Linux x86_64; rv:61.0) Gecko/20100101 Firefox/61.0'}\n",
    "content_parser = \"html.parser\"\n",
    "\n",
    "r = requests.get(\n",
    "    base_url, \n",
    "    headers=firefox_ua)\n",
    "\n",
    "\n",
    "soup = BeautifulSoup(r.content, content_parser)\n",
    "\n",
    "max_page = utils.scrap_safe_integer(soup.find_all('a', {'class': 'Page'})[-1])\n",
    "\n",
    "\n",
    "properties = []\n",
    "\n",
    "for page in range(0, max_page*10, 10):\n",
    "    site = requests.get(f\"{base_url}#t=0&s={page}\", headers=firefox_ua)\n",
    "    \n",
    "    soup = BeautifulSoup(site.content, content_parser)\n",
    "    \n",
    "    propsHtml = soup.find_all('div', {\"class\":\"propertyRow\"})\n",
    "    \n",
    "    l = [scrapper.scrap_property_to_dict(prop) for prop in propsHtml]\n",
    "    properties.extend(l)\n",
    "\n",
    "df = pandas.DataFrame(properties)\n",
    "df.to_csv(\"props.csv\")\n",
    "\n",
    "print(\"DONE\")"
   ]
  }
 ],
 "metadata": {
  "kernelspec": {
   "display_name": "Python 3.8.2 64-bit ('3.8.2': pyenv)",
   "language": "python",
   "name": "python38264bit382pyenv0254023308ca44e7af18f11222c635bd"
  },
  "language_info": {
   "codemirror_mode": {
    "name": "ipython",
    "version": 3
   },
   "file_extension": ".py",
   "mimetype": "text/x-python",
   "name": "python",
   "nbconvert_exporter": "python",
   "pygments_lexer": "ipython3",
   "version": "3.8.2"
  }
 },
 "nbformat": 4,
 "nbformat_minor": 4
}
